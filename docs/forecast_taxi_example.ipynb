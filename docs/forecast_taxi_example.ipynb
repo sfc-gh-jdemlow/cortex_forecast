{
 "cells": [
  {
   "cell_type": "markdown",
   "metadata": {},
   "source": [
    "---\n",
    "title: \"Cortex Forecast Example\"\n",
    "date: \"08/20/2024\"\n",
    "format:\n",
    "    html:\n",
    "        code-fold: False\n",
    "        output: False\n",
    "---"
   ]
  },
  {
   "cell_type": "markdown",
   "metadata": {},
   "source": [
    "# Overview"
   ]
  },
  {
   "cell_type": "code",
   "execution_count": 1,
   "metadata": {},
   "outputs": [],
   "source": [
    "%load_ext autoreload\n",
    "%autoreload 2"
   ]
  },
  {
   "cell_type": "code",
   "execution_count": 5,
   "metadata": {},
   "outputs": [],
   "source": [
    "#| hide\n",
    "from nbdev.showdoc import *"
   ]
  },
  {
   "cell_type": "markdown",
   "metadata": {},
   "source": [
    "# Example Useage"
   ]
  },
  {
   "cell_type": "code",
   "execution_count": 95,
   "metadata": {},
   "outputs": [],
   "source": [
    "#| skip\n",
    "from cortex_forecast.forecast import SnowflakeForecast\n",
    "from snowflake.snowpark.version import VERSION\n",
    "import os"
   ]
  },
  {
   "cell_type": "code",
   "execution_count": 97,
   "metadata": {},
   "outputs": [
    {
     "name": "stdout",
     "output_type": "stream",
     "text": [
      "\n",
      "Connection Established with the following parameters:\n",
      "User                        : JD_SERVICE_ACCOUNT_ADMIN\n",
      "Role                        : \"CORTEX_USER_ROLE\"\n",
      "Database                    : \"CORTEX\"\n",
      "Schema                      : \"DEV\"\n",
      "Warehouse                   : \"CORTEX_WH\"\n",
      "Snowflake version           : 8.31.1\n",
      "Snowpark for Python version : 1.19.0\n",
      "Creating tag: CREATE OR REPLACE TAG environment COMMENT = 'Specifies the production';\n",
      "Creating tag: CREATE OR REPLACE TAG team COMMENT = 'Specifies the data_science';\n",
      "Step 1/4: Creating training table...\n",
      "Step 2/4: Creating forecast model...\n",
      "Generated SQL:\n",
      "\n",
      "        CREATE OR REPLACE SNOWFLAKE.ML.FORECAST my_forecast_model_20240820_cttyu(\n",
      "            INPUT_DATA => SYSTEM$REFERENCE('table', 'storage_usage_train'),\n",
      "            TIMESTAMP_COLNAME => 'usage_date',\n",
      "            TARGET_COLNAME => 'storage_gb',\n",
      "        CONFIG_OBJECT => OBJECT_CONSTRUCT('evaluation_config', OBJECT_CONSTRUCT('n_splits', 5, 'test_size', 30, 'gap', 0, 'prediction_interval', 0.95))) WITH TAG (environment = 'production', team = 'data_science') COMMENT = 'Forecast model for predicting sales trends.';\n",
      "Step 3/4: Generating forecasts...\n",
      "Configuration Details:\n",
      "Forecast Days: 30\n",
      "Output Table: storage_forecast_results\n",
      "Evaluation Config: {'n_splits': 5, 'test_size': 30, 'gap': 0, 'prediction_interval': 0.95}\n",
      "Generated Forecast SQL:\n",
      "\n",
      "            CREATE OR REPLACE TABLE storage_forecast_results AS\n",
      "            SELECT\n",
      "                ts AS forecast_date,\n",
      "                forecast,\n",
      "                lower_bound,\n",
      "                upper_bound\n",
      "            FROM\n",
      "                TABLE(my_forecast_model_20240820_cttyu!FORECAST(\n",
      "                    FORECASTING_PERIODS => 30,\n",
      "                    CONFIG_OBJECT => {'prediction_interval': 0.95}\n",
      "                ));\n",
      "            \n",
      "Step 4/4: Fetching forecast results...\n"
     ]
    }
   ],
   "source": [
    "#| skip\n",
    "forecast_model = SnowflakeMLForecast(\n",
    "    config_file='./forecast/files/yaml/forecast_config.yaml',\n",
    "    connection_config={\n",
    "        'user': os.getenv('SNOWFLAKE_USER'),\n",
    "        'password': os.getenv('SNOWFLAKE_PASSWORD'),\n",
    "        'account': os.getenv('SNOWFLAKE_ACCOUNT'),\n",
    "        'database': 'CORTEX',\n",
    "        'warehouse': 'CORTEX_WH',\n",
    "        'schema': 'DEV',\n",
    "        'role': 'CORTEX_USER_ROLE'  # Use the desired role\n",
    "    }\n",
    ")\n",
    "\n",
    "snowflake_environment = forecast_model.session.sql('SELECT current_user(), current_version()').collect()\n",
    "snowpark_version = VERSION\n",
    "print('\\nConnection Established with the following parameters:')\n",
    "print('User                        : {}'.format(snowflake_environment[0][0]))\n",
    "print('Role                        : {}'.format(forecast_model.session.get_current_role()))\n",
    "print('Database                    : {}'.format(forecast_model.session.get_current_database()))\n",
    "print('Schema                      : {}'.format(forecast_model.session.get_current_schema()))\n",
    "print('Warehouse                   : {}'.format(forecast_model.session.get_current_warehouse()))\n",
    "print('Snowflake version           : {}'.format(snowflake_environment[0][1]))\n",
    "print('Snowpark for Python version : {}.{}.{}'.format(snowpark_version[0], snowpark_version[1], snowpark_version[2]))\n",
    "\n",
    "# Create Training Data\n",
    "training_days = 60\n",
    "predicted_days = 30\n",
    "\n",
    "forecast_model.session.sql(f'''CREATE OR REPLACE TABLE storage_usage_train AS\n",
    "    SELECT \n",
    "        TO_TIMESTAMP_NTZ(usage_date) AS usage_date,\n",
    "        storage_bytes / POWER(1024, 3) AS storage_gb\n",
    "    FROM snowflake.account_usage.storage_usage\n",
    "    WHERE TO_TIMESTAMP_NTZ(usage_date) < DATEADD(day, -{training_days}, CURRENT_DATE())\n",
    "''').collect()\n",
    "forecast_model.session.sql('SELECT * FROM storage_usage_train LIMIT 10').collect()"
   ]
  },
  {
   "cell_type": "code",
   "execution_count": null,
   "metadata": {},
   "outputs": [],
   "source": [
    "# Run Forecast\n",
    "forecast_model = SnowflakeMLForecast(\n",
    "    config_file='./forecast/files/yaml/storage_forecast.yaml',\n",
    "    connection_config={\n",
    "        'user': os.getenv('SNOWFLAKE_USER'),\n",
    "        'password': os.getenv('SNOWFLAKE_PASSWORD'),\n",
    "        'account': os.getenv('SNOWFLAKE_ACCOUNT'),\n",
    "        'database': 'CORTEX',\n",
    "        'warehouse': 'CORTEX_WH',\n",
    "        'schema': 'DEV',\n",
    "        'role': 'CORTEX_USER_ROLE'\n",
    "    }\n",
    ")\n",
    "forecast_data = forecast_model.create_and_run_forecast()\n",
    "forecast_data"
   ]
  },
  {
   "cell_type": "code",
   "execution_count": 100,
   "metadata": {},
   "outputs": [],
   "source": [
    "#| hide\n",
    "import nbdev; nbdev.nbdev_export()"
   ]
  },
  {
   "cell_type": "code",
   "execution_count": null,
   "metadata": {},
   "outputs": [],
   "source": []
  }
 ],
 "metadata": {
  "kernelspec": {
   "display_name": "python3",
   "language": "python",
   "name": "python3"
  },
  "language_info": {
   "codemirror_mode": {
    "name": "ipython",
    "version": 3
   },
   "file_extension": ".py",
   "mimetype": "text/x-python",
   "name": "python",
   "nbconvert_exporter": "python",
   "pygments_lexer": "ipython3",
   "version": "3.10.14"
  }
 },
 "nbformat": 4,
 "nbformat_minor": 4
}
