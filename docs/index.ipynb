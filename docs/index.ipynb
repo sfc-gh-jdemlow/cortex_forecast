{
 "cells": [
  {
   "cell_type": "markdown",
   "metadata": {},
   "source": [
    "---\n",
    "title: \"Welcome to SPCSDataScience\"\n",
    "date: \"05/08/2024\"\n",
    "format:\n",
    "    html:\n",
    "        code-fold: False\n",
    "        output: False\n",
    "---"
   ]
  },
  {
   "cell_type": "markdown",
   "metadata": {},
   "source": [
    "## SPCS Data Science Series\n",
    "\n",
    "This repository is part of a series that will continue to evolve, finding ways to leverage SPCS to make our lives easier as data scientists and machine learning engineers. We'll be enhancing Snowflake's native capabilities alongside SPCS to create templates adaptable to any direction. After setting up your work environment in Snowflake, the next steps involve building the desired data science workflow. As the series develops, we'll explore and refine these workflows.\n",
    "\n",
    "## Part 1: Data Science Workload in Snowflake with SPCS\n",
    "\n",
    "- **YouTube Walkthrough**: [Video](https://www.youtube.com/watch?v=FaLgQCbQWjA&t)\n",
    "- **Medium Article**: [Link](https://medium.com/@jeremy.demlow_35029/part-1-kickstarting-data-science-with-snowpark-container-services-fd36e0016f42)\n",
    "- **GitHub Page**: [Link](https://sfc-gh-jdemlow.github.io/SPCSDataScience/jupyterlab_spcs.html)\n",
    "- **Github Repository**: [Link](https://github.com/sfc-gh-jdemlow/SPCSDataScience)\n",
    "\n",
    "{{< video https://youtu.be/FaLgQCbQWjA?si=UCvwGO5U7wCo9_uU >}}\n",
    "\n",
    "## Future Work\n",
    "\n",
    "1. **Data Ingestion**  \n",
    "   [Data Ingestion Snowpark - Great Article](https://github.com/Snowflake-Labs/sfguide-data-engineering-with-snowpark-python/tree/main). Ideally, this repo eventually becomes something similar, providing comprehensive data ingestion and MLOps capabilities.\n",
    "\n",
    "2. **Feature Store & Data Preprocessing**  \n",
    "   Snowflake is working on a feature store that's currently in preview. Once available, we'll demonstrate its potential in project workflows.\n",
    "   - We'll discuss both offline and batch feature stores.\n",
    "   - Monitoring data drift is crucial to ensure that our data hasn't drifted significantly, as this may require retraining models.\n",
    "\n",
    "3. **Model Training and Model Registering**  \n",
    "   Our goal is to highlight the power of SPCS, Snowflake ML, and Snowflake Cortex. We'll demonstrate how these tools can integrate effectively.\n",
    "\n",
    "4. **Model Inference**  \n",
    "   We will explore various options for model inference in Snowflake.\n",
    "\n",
    "## Resources\n",
    "\n",
    "- [GitHub Page](https://sfc-gh-jdemlow.github.io/SPCSDataScience)\n"
   ]
  },
  {
   "cell_type": "markdown",
   "metadata": {},
   "source": []
  }
 ],
 "metadata": {
  "kernelspec": {
   "display_name": "Python 3 (ipykernel)",
   "language": "python",
   "name": "python3"
  },
  "language_info": {
   "codemirror_mode": {
    "name": "ipython",
    "version": 3
   },
   "file_extension": ".py",
   "mimetype": "text/x-python",
   "name": "python",
   "nbconvert_exporter": "python",
   "pygments_lexer": "ipython3",
   "version": "3.10.14"
  }
 },
 "nbformat": 4,
 "nbformat_minor": 4
}
