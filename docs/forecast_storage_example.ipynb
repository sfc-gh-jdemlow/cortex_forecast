{
 "cells": [
  {
   "cell_type": "markdown",
   "metadata": {},
   "source": [
    "---\n",
    "title: \"Snowflake Storage Cortex Forecast Example\"\n",
    "date: \"08/25/2024\"\n",
    "format:\n",
    "    html:\n",
    "        code-fold: False\n",
    "        output: False\n",
    "---"
   ]
  },
  {
   "cell_type": "markdown",
   "metadata": {},
   "source": [
    "# Overview"
   ]
  },
  {
   "cell_type": "code",
   "execution_count": 1,
   "metadata": {},
   "outputs": [],
   "source": [
    "%load_ext autoreload\n",
    "%autoreload 2"
   ]
  },
  {
   "cell_type": "code",
   "execution_count": 2,
   "metadata": {},
   "outputs": [],
   "source": [
    "#| hide\n",
    "from nbdev.showdoc import *"
   ]
  },
  {
   "cell_type": "markdown",
   "metadata": {},
   "source": [
    "# Example Useage"
   ]
  },
  {
   "cell_type": "code",
   "execution_count": 3,
   "metadata": {},
   "outputs": [],
   "source": [
    "#| skip\n",
    "from snowflake.snowpark.version import VERSION\n",
    "from cortex_forecast.forecast import SnowflakeMLForecast\n",
    "import os\n"
   ]
  },
  {
   "cell_type": "code",
   "execution_count": 4,
   "metadata": {},
   "outputs": [
    {
     "name": "stdout",
     "output_type": "stream",
     "text": [
      "\n",
      "Connection Established with the following parameters:\n",
      "User                        : JD_SERVICE_ACCOUNT_ADMIN\n",
      "Role                        : \"CORTEX_USER_ROLE\"\n",
      "Database                    : \"CORTEX\"\n",
      "Schema                      : \"DEV\"\n",
      "Warehouse                   : \"CORTEX_WH\"\n",
      "Snowflake version           : 8.31.1\n",
      "Snowpark for Python version : 1.19.0\n"
     ]
    }
   ],
   "source": [
    "#| skip\n",
    "forecast_model = SnowflakeMLForecast(\n",
    "    config_file='./cortex_forecast/files/yaml/storage_forecast_config.yaml',\n",
    "    connection_config={\n",
    "        'user': os.getenv('SNOWFLAKE_USER'),\n",
    "        'password': os.getenv('SNOWFLAKE_PASSWORD'),\n",
    "        'account': os.getenv('SNOWFLAKE_ACCOUNT'),\n",
    "        'database': 'CORTEX',\n",
    "        'warehouse': 'CORTEX_WH',\n",
    "        'schema': 'DEV',\n",
    "        'role': 'CORTEX_USER_ROLE'  # Use the desired role\n",
    "    }\n",
    ")\n",
    "\n",
    "snowflake_environment = forecast_model.session.sql('SELECT current_user(), current_version()').collect()\n",
    "snowpark_version = VERSION\n",
    "print('\\nConnection Established with the following parameters:')\n",
    "print('User                        : {}'.format(snowflake_environment[0][0]))\n",
    "print('Role                        : {}'.format(forecast_model.session.get_current_role()))\n",
    "print('Database                    : {}'.format(forecast_model.session.get_current_database()))\n",
    "print('Schema                      : {}'.format(forecast_model.session.get_current_schema()))\n",
    "print('Warehouse                   : {}'.format(forecast_model.session.get_current_warehouse()))\n",
    "print('Snowflake version           : {}'.format(snowflake_environment[0][1]))\n",
    "print('Snowpark for Python version : {}.{}.{}'.format(snowpark_version[0], snowpark_version[1], snowpark_version[2]))\n"
   ]
  },
  {
   "cell_type": "code",
   "execution_count": 5,
   "metadata": {},
   "outputs": [
    {
     "name": "stdout",
     "output_type": "stream",
     "text": [
      "--------------------------------------------\n",
      "|\"USAGE_DATE\"         |\"STORAGE_GB\"        |\n",
      "--------------------------------------------\n",
      "|2024-04-02 00:00:00  |181.23798023629934  |\n",
      "|2024-03-08 00:00:00  |174.59878158662468  |\n",
      "|2024-05-11 00:00:00  |210.28794746939093  |\n",
      "|2024-05-30 00:00:00  |210.35030308552086  |\n",
      "|2024-02-22 00:00:00  |7.973375583067536   |\n",
      "|2024-03-04 00:00:00  |7.973911106586456   |\n",
      "|2024-02-09 00:00:00  |7.942007430829108   |\n",
      "|2024-01-26 00:00:00  |5.264182310551405   |\n",
      "|2024-03-14 00:00:00  |184.33576492313296  |\n",
      "|2024-06-20 00:00:00  |260.5835631471127   |\n",
      "--------------------------------------------\n",
      "\n"
     ]
    }
   ],
   "source": [
    "#| skip\n",
    "# Create Training Data\n",
    "training_days = 60\n",
    "predicted_days = 30\n",
    "\n",
    "forecast_model.session.sql(f'''CREATE OR REPLACE TABLE storage_usage_train AS\n",
    "    SELECT \n",
    "        TO_TIMESTAMP_NTZ(usage_date) AS usage_date,\n",
    "        storage_bytes / POWER(1024, 3) AS storage_gb\n",
    "    FROM snowflake.account_usage.storage_usage\n",
    "    WHERE TO_TIMESTAMP_NTZ(usage_date) < DATEADD(day, -{training_days}, CURRENT_DATE())\n",
    "''').collect()\n",
    "forecast_model.session.sql('SELECT * FROM storage_usage_train LIMIT 10').show()"
   ]
  },
  {
   "cell_type": "code",
   "execution_count": 6,
   "metadata": {},
   "outputs": [
    {
     "name": "stderr",
     "output_type": "stream",
     "text": [
      "2024-08-20 18:38:35.559 \n",
      "  \u001b[33m\u001b[1mWarning:\u001b[0m to view this Streamlit app on a browser, run it with the following\n",
      "  command:\n",
      "\n",
      "    streamlit run /Users/jdemlow/miniconda3/envs/spacy_project/lib/python3.10/site-packages/ipykernel_launcher.py [ARGUMENTS]\n"
     ]
    },
    {
     "name": "stdout",
     "output_type": "stream",
     "text": [
      "Creating tag: CREATE OR REPLACE TAG environment COMMENT = 'Specifies the production';\n",
      "Creating tag: CREATE OR REPLACE TAG team COMMENT = 'Specifies the data_science';\n",
      "Step 1/4: Creating training table...\n",
      "Step 2/4: Creating forecast model...\n",
      "Generated SQL:\n",
      "\n",
      "        CREATE OR REPLACE SNOWFLAKE.ML.FORECAST my_forecast_model_20240820_lszyz(\n",
      "            INPUT_DATA => SYSTEM$REFERENCE('table', 'storage_usage_train'),\n",
      "            TIMESTAMP_COLNAME => 'usage_date',\n",
      "            TARGET_COLNAME => 'storage_gb',\n",
      "        CONFIG_OBJECT => OBJECT_CONSTRUCT('on_error', 'skip', 'evaluate', TRUE, 'evaluation_config', OBJECT_CONSTRUCT('n_splits', 2, 'gap', 0, 'prediction_interval', 0.95))) WITH TAG (environment = 'production', team = 'data_science') COMMENT = 'Forecast model for predicting sales trends.';\n",
      "Step 3/4: Generating forecasts...\n",
      "Configuration Details:\n",
      "Forecast Days: 30\n",
      "Output Table: storage_forecast_results\n",
      "Evaluation Config: {'n_splits': 2, 'gap': 0, 'prediction_interval': 0.95}\n",
      "Generated Forecast SQL:\n",
      "\n",
      "            CREATE OR REPLACE TABLE storage_forecast_results AS\n",
      "            SELECT\n",
      "                ts AS forecast_date,\n",
      "                forecast,\n",
      "                lower_bound,\n",
      "                upper_bound\n",
      "            FROM\n",
      "                TABLE(my_forecast_model_20240820_lszyz!FORECAST(\n",
      "                    FORECASTING_PERIODS => 30,\n",
      "                    CONFIG_OBJECT => {'prediction_interval': 0.95}\n",
      "                ));\n",
      "            \n",
      "Step 4/4: Fetching forecast results...\n"
     ]
    }
   ],
   "source": [
    "# Run Forecast\n",
    "forecast_data = forecast_model.create_and_run_forecast()"
   ]
  },
  {
   "cell_type": "code",
   "execution_count": 7,
   "metadata": {},
   "outputs": [
    {
     "ename": "AttributeError",
     "evalue": "'SnowflakeMLForecast' object has no attribute 'generate_forecast_and_visualization'",
     "output_type": "error",
     "traceback": [
      "\u001b[0;31m---------------------------------------------------------------------------\u001b[0m",
      "\u001b[0;31mAttributeError\u001b[0m                            Traceback (most recent call last)",
      "Cell \u001b[0;32mIn[7], line 4\u001b[0m\n\u001b[1;32m      2\u001b[0m forecasting_period \u001b[38;5;241m=\u001b[39m \u001b[38;5;241m30\u001b[39m\n\u001b[1;32m      3\u001b[0m confidence_interval \u001b[38;5;241m=\u001b[39m \u001b[38;5;241m0.95\u001b[39m\n\u001b[0;32m----> 4\u001b[0m \u001b[43mforecast_model\u001b[49m\u001b[38;5;241;43m.\u001b[39;49m\u001b[43mgenerate_forecast_and_visualization\u001b[49m(forecasting_period, confidence_interval)\n",
      "\u001b[0;31mAttributeError\u001b[0m: 'SnowflakeMLForecast' object has no attribute 'generate_forecast_and_visualization'"
     ]
    }
   ],
   "source": [
    "# Generate Forecast and Visualization\n",
    "forecasting_period = 30\n",
    "confidence_interval = 0.95\n",
    "forecast_model.generate_forecast_and_visualization(forecasting_period, confidence_interval)"
   ]
  },
  {
   "cell_type": "code",
   "execution_count": null,
   "metadata": {},
   "outputs": [],
   "source": []
  }
 ],
 "metadata": {
  "kernelspec": {
   "display_name": "python3",
   "language": "python",
   "name": "python3"
  },
  "language_info": {
   "codemirror_mode": {
    "name": "ipython",
    "version": 3
   },
   "file_extension": ".py",
   "mimetype": "text/x-python",
   "name": "python",
   "nbconvert_exporter": "python",
   "pygments_lexer": "ipython3",
   "version": "3.10.14"
  }
 },
 "nbformat": 4,
 "nbformat_minor": 4
}
