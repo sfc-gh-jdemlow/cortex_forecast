{
 "cells": [
  {
   "cell_type": "markdown",
   "metadata": {},
   "source": [
    "# Snowpark Connection\n",
    "\n",
    "> Helps Manage Snowflake Connection"
   ]
  },
  {
   "cell_type": "code",
   "execution_count": 7,
   "metadata": {},
   "outputs": [],
   "source": [
    "#| default_exp connection"
   ]
  },
  {
   "cell_type": "code",
   "execution_count": 8,
   "metadata": {},
   "outputs": [],
   "source": [
    "#| hide\n",
    "from nbdev.showdoc import *"
   ]
  },
  {
   "cell_type": "code",
   "execution_count": 9,
   "metadata": {},
   "outputs": [],
   "source": [
    "#| export\n",
    "import os\n",
    "import logging\n",
    "import yaml\n",
    "import base64\n",
    "\n",
    "from typing import Optional, Dict\n",
    "from snowflake.snowpark import Session\n",
    "from snowflake.snowpark.context import get_active_session\n",
    "from snowflake.snowpark.exceptions import SnowparkSessionException\n",
    "from cryptography.hazmat.primitives import serialization\n",
    "from cryptography.hazmat.backends import default_backend\n",
    "\n",
    "logging.getLogger('snowflake.snowpark').setLevel(logging.WARNING)"
   ]
  },
  {
   "cell_type": "code",
   "execution_count": 4,
   "metadata": {},
   "outputs": [],
   "source": [
    "#|export\n",
    "class AuthenticationError(Exception):\n",
    "    \"\"\"Custom exception for authentication errors.\"\"\"\n",
    "    pass\n",
    "\n",
    "class SnowparkConnection:\n",
    "    def __init__(self, connection_config: Optional[Dict[str, str]] = None, config_file: str = 'snowflake_config.yaml'):\n",
    "        self.connection_config = connection_config or self.load_connection_config(config_file)\n",
    "        self.session = self._get_active_or_new_session()\n",
    "\n",
    "    def load_connection_config(self, yaml_file: str) -> Dict[str, str]:\n",
    "        config = {}\n",
    "        if os.path.isfile(yaml_file):\n",
    "            try:\n",
    "                with open(yaml_file, 'r') as file:\n",
    "                    config = yaml.safe_load(file).get('snowflake', {})\n",
    "            except FileNotFoundError:\n",
    "                logging.warning(f\"Configuration file '{yaml_file}' not found. Using environment variables.\")\n",
    "            except yaml.YAMLError as e:\n",
    "                logging.error(f\"Error parsing YAML file: {e}\")\n",
    "                raise\n",
    "        \n",
    "        # Fallback to environment variables if certain keys are missing\n",
    "        env_vars = [\n",
    "            'SNOWFLAKE_ACCOUNT', 'SNOWFLAKE_USER', 'SNOWFLAKE_ROLE', \n",
    "            'SNOWFLAKE_WAREHOUSE', 'SNOWFLAKE_DATABASE', 'SNOWFLAKE_SCHEMA', \n",
    "            'SNOWFLAKE_PRIVATE_KEY_PATH'\n",
    "        ]\n",
    "        \n",
    "        for var in env_vars:\n",
    "            key = var.lower().split('snowflake_')[1]\n",
    "            if os.getenv(var) and key not in config:\n",
    "                config[key] = os.getenv(var)\n",
    "        \n",
    "        return config\n",
    "    \n",
    "    def _get_active_or_new_session(self) -> Session:\n",
    "        try:\n",
    "            # First, try to get an active session\n",
    "            session = get_active_session()\n",
    "            logging.info(\"Using existing active Snowpark session.\")\n",
    "            return session\n",
    "        except SnowparkSessionException:\n",
    "            logging.info(\"No active session found. Attempting to create a new session.\")\n",
    "            return self._create_new_session()\n",
    "\n",
    "    def _create_new_session(self) -> Session:\n",
    "        try:\n",
    "            if 'private_key_path' in self.connection_config:\n",
    "                self._configure_key_pair_auth(self.connection_config)\n",
    "            \n",
    "            session = Session.builder.configs(self.connection_config).create()\n",
    "            logging.info(\"Snowpark session created successfully.\")\n",
    "            return session\n",
    "        except Exception as e:\n",
    "            logging.error(f\"Error creating Snowpark session: {e}\")\n",
    "            raise AuthenticationError(f\"Failed to create session: {str(e)}\")\n",
    "\n",
    "    def _load_private_key(self, private_key_path: str) -> bytes:\n",
    "        try:\n",
    "            with open(private_key_path, \"rb\") as key_file:\n",
    "                p_key = serialization.load_pem_private_key(\n",
    "                    key_file.read(),\n",
    "                    password=None,\n",
    "                    backend=default_backend()\n",
    "                )\n",
    "            private_key_bytes = p_key.private_bytes(\n",
    "                encoding=serialization.Encoding.DER,\n",
    "                format=serialization.PrivateFormat.PKCS8,\n",
    "                encryption_algorithm=serialization.NoEncryption()\n",
    "            )\n",
    "            logging.info(\"Private key loaded successfully.\")\n",
    "            return private_key_bytes\n",
    "        except FileNotFoundError:\n",
    "            logging.error(f\"Private key file not found: {private_key_path}\")\n",
    "            raise AuthenticationError(f\"Private key file not found: {private_key_path}\")\n",
    "        except Exception as e:\n",
    "            logging.error(f\"Error loading private key: {e}\")\n",
    "            raise AuthenticationError(f\"Error loading private key: {str(e)}\")\n",
    "\n",
    "    def _configure_key_pair_auth(self, config: Dict[str, str]) -> None:\n",
    "        try:\n",
    "            private_key = self._load_private_key(config['private_key_path'])\n",
    "            config['private_key'] = private_key\n",
    "            config.pop('private_key_path', None)\n",
    "        except Exception as e:\n",
    "            logging.error(f\"Error configuring key pair authentication: {e}\")\n",
    "            raise AuthenticationError(f\"Key pair authentication configuration failed: {str(e)}\")\n",
    "\n",
    "    def get_session(self) -> Session:\n",
    "        return self.session\n",
    "\n",
    "    def close_session(self) -> None:\n",
    "        try:\n",
    "            self.session.close()\n",
    "            logging.info(\"Snowpark session closed successfully.\")\n",
    "        except Exception as e:\n",
    "            logging.error(f\"Error closing Snowpark session: {e}\")\n",
    "            raise\n",
    "\n",
    "    def __enter__(self):\n",
    "        return self\n",
    "\n",
    "    def __exit__(self, exc_type, exc_val, exc_tb):\n",
    "        self.close_session()"
   ]
  },
  {
   "cell_type": "code",
   "execution_count": 5,
   "metadata": {},
   "outputs": [
    {
     "name": "stdout",
     "output_type": "stream",
     "text": [
      "[Row(CURRENT_WAREHOUSE()='CORTEX_WH', CURRENT_DATABASE()='CORTEX', CURRENT_SCHEMA()='DEV')]\n"
     ]
    }
   ],
   "source": [
    "#| skip\n",
    "\n",
    "# 1. Username and Password\n",
    "def username_password_example():\n",
    "    config = {\n",
    "        'user': os.getenv('SNOWFLAKE_USER', ''),\n",
    "        'password': os.getenv('SNOWFLAKE_PASSWORD', ''),\n",
    "        'account': os.getenv('SNOWFLAKE_ACCOUNT', ''),\n",
    "        'database': 'CORTEX',\n",
    "        'warehouse': 'CORTEX_WH',\n",
    "        'schema': 'DEV',\n",
    "        'role': 'CORTEX_USER_ROLE'\n",
    "    }\n",
    "    \n",
    "    try:\n",
    "        with SnowparkConnection(connection_config=config) as conn:\n",
    "            session = conn.get_session()\n",
    "            print(session.sql(\"SELECT CURRENT_WAREHOUSE(), CURRENT_DATABASE(), CURRENT_SCHEMA()\").collect())\n",
    "    except AuthenticationError as e:\n",
    "        print(f\"Authentication failed: {e}\")\n",
    "    except Exception as e:\n",
    "        print(f\"An unexpected error occurred: {e}\")\n",
    "\n",
    "username_password_example()"
   ]
  },
  {
   "cell_type": "markdown",
   "metadata": {},
   "source": [
    "Example Setup Key Pair Authentication Setup\n",
    "\n",
    "1. Generate a private key (run these commands in your local terminal, not in Snowflake)\n",
    "\n",
    "```bash\n",
    "openssl genrsa 2048 | openssl pkcs8 -topk8 -inform PEM -out rsa_key.p8 -nocrypt\n",
    "# OR\n",
    "openssl genrsa 2048 | openssl pkcs8 -topk8 -v2 des3 -inform PEM -out rsa_key.p8\n",
    "openssl rsa -in rsa_key.p8 -pubout -out rsa_key.pub\n",
    "```\n",
    "\n",
    "2. Assign the public key to a Snowflake user\n",
    "-- Replace 'YOUR_USERNAME' with the actual username\n",
    "\n",
    "```sql\n",
    "ALTER USER YOUR_USERNAME SET RSA_PUBLIC_KEY='<paste_public_key_here>';\n",
    "```\n",
    "\n",
    "3. Verify the key is set correctly\n",
    "\n",
    "```sql\n",
    "DESC USER YOUR_USERNAME;\n",
    "```\n"
   ]
  },
  {
   "cell_type": "code",
   "execution_count": 6,
   "metadata": {},
   "outputs": [
    {
     "name": "stdout",
     "output_type": "stream",
     "text": [
      "[Row(CURRENT_USER()='JD_SERVICE_ACCOUNT_ADMIN', CURRENT_ROLE()='CORTEX_USER_ROLE')]\n"
     ]
    }
   ],
   "source": [
    "#| skip\n",
    "# Example usage\n",
    "def key_pair_example():\n",
    "    config = {\n",
    "        'user': os.getenv('SNOWFLAKE_USER', ''),\n",
    "        'account': os.getenv('SNOWFLAKE_ACCOUNT', ''),\n",
    "        'private_key_file': os.path.expanduser('../rsa_key.p8'),  # or use 'private_key_path'\n",
    "        'database': 'CORTEX',\n",
    "        'warehouse': 'CORTEX_WH',\n",
    "        'schema': 'DEV',\n",
    "        'role': 'CORTEX_USER_ROLE'\n",
    "    }\n",
    "    \n",
    "    try:\n",
    "        with SnowparkConnection(connection_config=config) as conn:\n",
    "            session = conn.get_session()\n",
    "            print(session.sql(\"SELECT CURRENT_USER(), CURRENT_ROLE()\").collect())\n",
    "    except AuthenticationError as e:\n",
    "        print(f\"Authentication failed: {e}\")\n",
    "    except Exception as e:\n",
    "        print(f\"An unexpected error occurred: {e}\")\n",
    "\n",
    "key_pair_example()"
   ]
  },
  {
   "cell_type": "code",
   "execution_count": 15,
   "metadata": {},
   "outputs": [],
   "source": [
    "#| hide\n",
    "import nbdev; nbdev.nbdev_export()"
   ]
  },
  {
   "cell_type": "code",
   "execution_count": null,
   "metadata": {},
   "outputs": [],
   "source": []
  }
 ],
 "metadata": {
  "kernelspec": {
   "display_name": "python3",
   "language": "python",
   "name": "python3"
  },
  "language_info": {
   "codemirror_mode": {
    "name": "ipython",
    "version": 3
   },
   "file_extension": ".py",
   "mimetype": "text/x-python",
   "name": "python",
   "nbconvert_exporter": "python",
   "pygments_lexer": "ipython3",
   "version": "3.10.14"
  }
 },
 "nbformat": 4,
 "nbformat_minor": 4
}
