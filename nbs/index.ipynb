{
 "cells": [
  {
   "cell_type": "markdown",
   "metadata": {},
   "source": [
    "# Snowflake Cortex Forecasting"
   ]
  },
  {
   "cell_type": "markdown",
   "metadata": {},
   "source": [
    "# Documentation\n",
    "\n",
    "> Note: This is a POC and is not production ready. This is a repository for the Cortex ML Function Forecasting. There are many updates that can be made to make this better and more robust for a production ready use case, but this will get you 80-90% of the way there for simple forecating use cases. This was developed in hopes that it would get you started on your forecasting journey. Then allow you to make adjustments to fit your specific use case.\n",
    "\n",
    "## Overview\n",
    "\n",
    "The `SnowflakeMLForecast` class is a flexible tool designed for creating, managing, and analyzing forecast models within Snowflake using the `CREATE SNOWFLAKE.ML.FORECAST` functionality. It allows users to define models, configure inputs, generate forecasts, and visualize results seamlessly.\n",
    "\n",
    "## Features\n",
    "\n",
    "- Dynamic Forecast Model Creation: Automatically generates SQL queries to create forecast models based on configuration files.\n",
    "- Visualization: Integrates with both Streamlit and standard Python environments to display forecast results and key data aspects.\n",
    "- Tag Management: Handles the creation of tags in Snowflake and ensures smooth operation even if tags already exist.\n",
    "- Configurable: Supports YAML configuration files for easy setup and flexibility.\n",
    "- Error Handling: Robust error handling and user feedback for a seamless experience.\n",
    "\n",
    "\n",
    "## Installation\n",
    "\n",
    "### Requirements\n",
    "\n",
    "- Python 3.7+\n",
    "- Snowflake Connector\n",
    "- Pandas\n",
    "- Altair (for visualizations)\n",
    "- Streamlit (optional, for UI)\n",
    "\n",
    "\n",
    "### Setup\n",
    "\n",
    "1. Clone the Repository:\n",
    "\n",
    "2. Install Dependencies:\n",
    "\n",
    "3. Set Up Configuration:\n",
    "   Create a YAML file with your configuration settings (explained below).\n",
    "\n",
    "\n",
    "## Configuration\n",
    "\n",
    "The `SnowflakeMLForecast` class relies on a YAML configuration file to define the input data, forecast settings, and other options. Below is an example configuration:\n",
    "\n",
    "> This configuration is what is used in the storage example to be able to forecast your snowflake storage usage.\n",
    "\n",
    "```yaml\n",
    "model:\n",
    "  name: my_forecast_model\n",
    "  tags:\n",
    "    environment: production\n",
    "    team: data_science\n",
    "  comment: \"Forecast model for predicting trends.\"\n",
    "\n",
    "input_data:\n",
    "  table: storage_usage_train\n",
    "  table_type: table  # Options: 'table', 'view'\n",
    "  timestamp_column: usage_date\n",
    "  target_column: storage_gb\n",
    "  series_column: null  # Set to column name for multiple time series\n",
    "  exogenous_columns: # Or [column1, column2] if thre are no columns it will use all columns in the view or table\n",
    "    - column1\n",
    "    - column2\n",
    "\n",
    "forecast_config:\n",
    "  training_days: 180\n",
    "  forecast_days: 30\n",
    "  config_object:\n",
    "    on_error: skip\n",
    "    evaluate: true\n",
    "    evaluation_config:\n",
    "      n_splits: 2 # Default is 2\n",
    "      gap: 0 # Default is 0\n",
    "      prediction_interval: 0.95\n",
    "\n",
    "output:\n",
    "  table: storage_forecast_results\n",
    "```\n",
    "\n",
    "## Usage\n",
    "\n",
    "### Creating a SnowflakeMLForecast Instance\n",
    "\n",
    "\n",
    "```python\n",
    "# Step 1: Create a Forecast Model Instance\n",
    "\n",
    "# Define your connection configuration\n",
    "connection_config = {\n",
    "    'user': 'your_user',\n",
    "    'password': 'your_password',\n",
    "    'account': 'your_account',\n",
    "    'database': 'your_database',\n",
    "    'warehouse': 'your_warehouse',\n",
    "    'schema': 'your_schema',\n",
    "    'role': 'your_role'\n",
    "}\n",
    "\n",
    "# Create an instance of SnowflakeMLForecast\n",
    "forecast_model = SnowflakeMLForecast(\n",
    "    config_file='path/to/your/config.yaml',\n",
    "    connection_config=connection_config\n",
    ")\n",
    "\n",
    "# Step 2: Run Forecast and Visualize Results\n",
    "forecast_data = forecast_model.create_and_run_forecast()\n",
    "forecast_model.generate_forecast_and_visualization()\n",
    "\n",
    "# Step 3: Clean Up\n",
    "forecast_model.cleanup()\n",
    "```\n"
   ]
  },
  {
   "cell_type": "markdown",
   "metadata": {},
   "source": [
    "# Full Example\n",
    "\n",
    "> See in Docs/ folder for two example of this in action. One is for storage and the other is for Taxi Pick up in NYC."
   ]
  },
  {
   "cell_type": "code",
   "execution_count": null,
   "metadata": {},
   "outputs": [],
   "source": [
    "#| skip\n",
    "from snowflake.snowpark.version import VERSION\n",
    "from cortex_forecast.forecast import SnowflakeMLForecast\n",
    "import os"
   ]
  },
  {
   "cell_type": "markdown",
   "metadata": {},
   "source": [
    "## Create Snowflake Connection Using SnowflakeMLForecast\n",
    "\n",
    "\n",
    "> Note: Make sure that you create a yaml file that you would like to so that the SnowflakeMLForecast can read the connection information from it and be able to build your forecast."
   ]
  },
  {
   "cell_type": "code",
   "execution_count": null,
   "metadata": {},
   "outputs": [],
   "source": [
    "#| skip\n",
    "forecast_model = SnowflakeMLForecast(\n",
    "   config='./cortex_forecast/files/yaml/storage_forecast_config.yaml',\n",
    "    connection_config={\n",
    "        'user': os.getenv('SNOWFLAKE_USER'),\n",
    "        'password': os.getenv('SNOWFLAKE_PASSWORD'),\n",
    "        'account': os.getenv('SNOWFLAKE_ACCOUNT'),\n",
    "        'database': 'CORTEX',\n",
    "        'warehouse': 'CORTEX_WH',\n",
    "        'schema': 'DEV',\n",
    "        'role': 'CORTEX_USER_ROLE'  # Use the desired role\n",
    "    },\n",
    "    is_streamlit=False\n",
    ")\n",
    "\n",
    "snowflake_environment = forecast_model.session.sql('SELECT current_user(), current_version()').collect()\n",
    "snowpark_version = VERSION\n",
    "print('\\nConnection Established with the following parameters:')\n",
    "print('Snowflake version           : {}'.format(snowflake_environment[0][1]))\n",
    "print('Snowpark for Python version : {}.{}.{}'.format(snowpark_version[0], snowpark_version[1], snowpark_version[2]))"
   ]
  },
  {
   "cell_type": "code",
   "execution_count": null,
   "metadata": {},
   "outputs": [],
   "source": [
    "#| skip\n",
    "# Create Training Data\n",
    "training_days = 365\n",
    "\n",
    "forecast_model.session.sql(f'''CREATE OR REPLACE TABLE storage_usage_train AS\n",
    "    SELECT \n",
    "        TO_TIMESTAMP_NTZ(usage_date) AS usage_date,\n",
    "        storage_bytes / POWER(1024, 3) AS storage_gb\n",
    "    FROM \n",
    "    (\n",
    "        SELECT * \n",
    "            FROM snowflake.account_usage.storage_usage\n",
    "            WHERE usage_date < CURRENT_DATE()\n",
    "    )\n",
    "    WHERE TO_TIMESTAMP_NTZ(usage_date) > DATEADD(day, -{training_days}, CURRENT_DATE())\n",
    "''').collect()\n",
    "forecast_model.session.sql('SELECT * FROM storage_usage_train ORDER BY usage_date DESC LIMIT 10').show()"
   ]
  },
  {
   "cell_type": "code",
   "execution_count": null,
   "metadata": {},
   "outputs": [],
   "source": [
    "#| skip\n",
    "import pandas as pd\n",
    "import matplotlib.pyplot as plt"
   ]
  },
  {
   "cell_type": "code",
   "execution_count": null,
   "metadata": {},
   "outputs": [],
   "source": [
    "#| skip\n",
    "df = forecast_model.session.sql('SELECT * FROM storage_usage_train ORDER BY usage_date').to_pandas()\n",
    "df.head()\n",
    "df = df.set_index('USAGE_DATE')\n",
    "df['STORAGE_GB'].plot(figsize=(10, 6), title='Storage GB Over Time')\n",
    "\n",
    "# Show the plot\n",
    "plt.xlabel('Date')\n",
    "plt.ylabel('Storage GB')\n",
    "plt.grid(True)\n",
    "plt.show()\n"
   ]
  },
  {
   "cell_type": "markdown",
   "metadata": {},
   "source": [
    "### Train a Model\n",
    "\n",
    "> This will use what is inside of the yaml file that you created that you passed over to the SnowflakeMLForecast object\n"
   ]
  },
  {
   "cell_type": "code",
   "execution_count": null,
   "metadata": {},
   "outputs": [],
   "source": [
    "#| skip\n",
    "# Run Forecast\n",
    "forecast_data = forecast_model.create_and_run_forecast()\n",
    "forecast_data.head()"
   ]
  },
  {
   "cell_type": "markdown",
   "metadata": {},
   "source": [
    "### Visualize Forecast"
   ]
  },
  {
   "cell_type": "code",
   "execution_count": null,
   "metadata": {},
   "outputs": [],
   "source": [
    "forecast_model.generate_forecast_and_visualization(show_historical=True)"
   ]
  },
  {
   "cell_type": "code",
   "execution_count": null,
   "metadata": {},
   "outputs": [],
   "source": []
  }
 ],
 "metadata": {
  "kernelspec": {
   "display_name": "python3",
   "language": "python",
   "name": "python3"
  },
  "language_info": {
   "codemirror_mode": {
    "name": "ipython",
    "version": 3
   },
   "file_extension": ".py",
   "mimetype": "text/x-python",
   "name": "python",
   "nbconvert_exporter": "python",
   "pygments_lexer": "ipython3",
   "version": "3.10.14"
  }
 },
 "nbformat": 4,
 "nbformat_minor": 4
}
